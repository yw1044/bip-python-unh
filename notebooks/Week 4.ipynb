{
 "cells": [
  {
   "cell_type": "markdown",
   "metadata": {},
   "source": [
    "# Week 3 - Python data types, arrays, touples, lists, and dictionaries with logical operation and introduction to loops\n",
    "\n",
    "Below are links to articles regarding key topics for these exercises. You are encouraged to add extra cells where needed to test ideas and experiment to help understand these concepts, feel free to add and please save and upload your testing/experimenting when done.\n",
    "\n",
    "### Python Data Types:\n",
    "Documentation for the Python programming language (fairly dry, but specific to how these data types are implemented). This also includes links to the documentation for dictionaries, lists, and touples.\n",
    "https://docs.python.org/3/library/datatypes.html\n",
    "\n",
    "Geeks for Geeks is good to get a better practical view of these concepts:\n",
    "https://www.geeksforgeeks.org/python-data-types/\n",
    "\n",
    "Real Python helped me a lot to get started, here are the definitions of these same concepts written in their more intro, user friendly style.\n",
    "https://realpython.com/python-data-types/\n",
    "\n",
    "### Python Operators:\n",
    "W3 Schools has a great set of 'cheat sheets' to review and refresh on many different languages and topics. Here is their sheet on operatiors in Python. This includes logical operations we will use in If statements to help make the computer make decisions:\n",
    "https://www.w3schools.com/python/python_operators.asp\n",
    "\n",
    "Geeks for Geeks with another easy to follow approach to Logical Operators specifically:\n",
    "https://www.geeksforgeeks.org/python-logical-operators-with-examples-improvement-needed/\n",
    "\n",
    "### Python Loops:\n",
    "Geeks for Geeks shows both While loops and For loops, and gives some idea on when you want to use which:\n",
    "https://www.geeksforgeeks.org/loops-in-python/\n",
    "\n",
    "Real Pythons article on For Loops (Used more frequently):\n",
    "https://realpython.com/python-for-loop/\n",
    "\n",
    "### Python Variables:\n",
    "W3Schools has a good intro on what variables are and how they are used in Python:\n",
    "https://www.w3schools.com/python/python_variables.asp\n",
    "\n",
    "Real Python has a similar article to help explain variables for those not familar with the concepts:\n",
    "https://realpython.com/python-variables/"
   ]
  },
  {
   "cell_type": "markdown",
   "metadata": {},
   "source": [
    "# Exercises\n",
    "Below are some starting variables and basic steps to setup the questions and exercises below. Feel free to add cells, or add to each cell provided to solve the exercises:\n",
    "\n",
    "## Exercise 1 - List transformations\n",
    "* Add 'horse' and 'barn' to the singular_words list\n",
    "* Create a plural_words list containing the plural word for each item in the singular_words list. Use a loop so you do not have to do this manually"
   ]
  },
  {
   "cell_type": "code",
   "execution_count": 1,
   "metadata": {
    "ExecuteTime": {
     "end_time": "2020-08-18T17:22:52.798149Z",
     "start_time": "2020-08-18T17:22:52.792164Z"
    }
   },
   "outputs": [
    {
     "data": {
      "text/plain": [
       "['one', 'two', 'three']"
      ]
     },
     "execution_count": 1,
     "metadata": {},
     "output_type": "execute_result"
    }
   ],
   "source": [
    "singular_words = ['dog', 'cat', 'house', 'toy','horse','barn']\n",
    "sw = ['one', \"two\", 'three']\n",
    "zw = ['hello', \"there\"]\n",
    "sw "
   ]
  },
  {
   "cell_type": "code",
   "execution_count": 2,
   "metadata": {},
   "outputs": [
    {
     "data": {
      "text/plain": [
       "['one', 'two', 'three', 'hello', 'there']"
      ]
     },
     "execution_count": 2,
     "metadata": {},
     "output_type": "execute_result"
    }
   ],
   "source": [
    "new_list = sw + zw\n",
    "new_list"
   ]
  },
  {
   "cell_type": "code",
   "execution_count": 3,
   "metadata": {},
   "outputs": [
    {
     "data": {
      "text/plain": [
       "['one', 'two', 'three', 'hello', 'there', 'another item']"
      ]
     },
     "execution_count": 3,
     "metadata": {},
     "output_type": "execute_result"
    }
   ],
   "source": [
    "new_list += ['another item']\n",
    "new_list"
   ]
  },
  {
   "cell_type": "code",
   "execution_count": 4,
   "metadata": {},
   "outputs": [
    {
     "data": {
      "text/plain": [
       "['ones', 'twos', 'threes', 'hellos', 'theres', 'another items']"
      ]
     },
     "execution_count": 4,
     "metadata": {},
     "output_type": "execute_result"
    }
   ],
   "source": [
    "plural_words = []\n",
    "for each_word in new_list:\n",
    "    plural_words.append(each_word + 's')\n",
    "    \n",
    "plural_words"
   ]
  },
  {
   "cell_type": "code",
   "execution_count": 5,
   "metadata": {},
   "outputs": [
    {
     "data": {
      "text/plain": [
       "{'ones': 'this is a bad plural one', 'twos': 'this is plural two'}"
      ]
     },
     "execution_count": 5,
     "metadata": {},
     "output_type": "execute_result"
    }
   ],
   "source": [
    "test_dictionary = {\n",
    "    'ones':'this is a bad plural one',\n",
    "    'twos':'this is plural two'\n",
    "}\n",
    "test_dictionary"
   ]
  },
  {
   "cell_type": "code",
   "execution_count": 6,
   "metadata": {},
   "outputs": [
    {
     "data": {
      "text/plain": [
       "['one', 'two', 'three', 'hello', 'there', 'another item']"
      ]
     },
     "execution_count": 6,
     "metadata": {},
     "output_type": "execute_result"
    }
   ],
   "source": [
    "new_list"
   ]
  },
  {
   "cell_type": "code",
   "execution_count": 7,
   "metadata": {},
   "outputs": [
    {
     "data": {
      "text/plain": [
       "['dog', 'cat', 'house', 'toy', 'horse', 'barn']"
      ]
     },
     "execution_count": 7,
     "metadata": {},
     "output_type": "execute_result"
    }
   ],
   "source": [
    "singular_words = ['dog', 'cat', 'house', 'toy'] + ['horse', 'barn']\n",
    "singular_words"
   ]
  },
  {
   "cell_type": "code",
   "execution_count": 8,
   "metadata": {},
   "outputs": [
    {
     "data": {
      "text/plain": [
       "['dogs', 'cats', 'houses', 'toys', 'horses', 'barns']"
      ]
     },
     "execution_count": 8,
     "metadata": {},
     "output_type": "execute_result"
    }
   ],
   "source": [
    "plural_words = []\n",
    "for each_word in singular_words:\n",
    "    plural_words.append(each_word + 's')\n",
    "plural_words"
   ]
  },
  {
   "cell_type": "markdown",
   "metadata": {},
   "source": [
    "## Exercise 2 - Categorizing lists with Dictionaries\n",
    "* Use the plural_words list created above and the word_category dictionary provided below to create a loop that categorizes each word in the list.\n",
    "* The loop should print the word and what the category is in a complete sentence, ordered by how the words appear in the plural_words list."
   ]
  },
  {
   "cell_type": "code",
   "execution_count": 9,
   "metadata": {
    "ExecuteTime": {
     "end_time": "2020-08-18T18:49:06.051285Z",
     "start_time": "2020-08-18T18:49:06.043306Z"
    }
   },
   "outputs": [
    {
     "data": {
      "text/plain": [
       "{'houses': 'objects',\n",
       " 'toys': 'objects',\n",
       " 'barns': 'objects',\n",
       " 'dogs': 'creatures',\n",
       " 'cats': 'creatures',\n",
       " 'horses': 'creatures'}"
      ]
     },
     "execution_count": 9,
     "metadata": {},
     "output_type": "execute_result"
    }
   ],
   "source": [
    "word_category = {\n",
    "    'houses':'objects',\n",
    "    'toys':'objects',\n",
    "    'barns':'objects',\n",
    "    'dogs':'creatures',\n",
    "    'cats':'creatures',\n",
    "    'horses':'creatures'\n",
    "}\n",
    "word_category"
   ]
  },
  {
   "cell_type": "code",
   "execution_count": 10,
   "metadata": {},
   "outputs": [
    {
     "name": "stdout",
     "output_type": "stream",
     "text": [
      "dogs are creatures\n",
      "cats are creatures\n",
      "houses are objects\n",
      "toys are objects\n",
      "horses are creatures\n",
      "barns are objects\n"
     ]
    }
   ],
   "source": [
    "for each in plural_words:\n",
    "    print(each + ' are ' +  word_category[each])"
   ]
  },
  {
   "cell_type": "markdown",
   "metadata": {},
   "source": [
    "## Exercise 3 - Data Conversion\n",
    "Sometimes data comes in unexpected ways. Converting data and using it after is often required to complete analysis in the real world.\n",
    "* convert values in the list to numbers\n",
    "* provide the average (mean) of the numbers\n",
    "* provide the sum (total) of the numbers\n",
    "* provide the count of numbers in the list (Do not enter the value, calculate it)\n",
    "* remove the largest and smallest number from the list\n",
    "* provide the average (mean) of the numbers\n",
    "* provide the sum (total) of the numbers\n",
    "* provide the count of numbers in the list (Do not enter the value, calculate it)"
   ]
  },
  {
   "cell_type": "code",
   "execution_count": 11,
   "metadata": {},
   "outputs": [],
   "source": [
    "numbers = ['10234', '500', '125', '50213', '1440', '64920', '225', '425', '1']"
   ]
  },
  {
   "cell_type": "code",
   "execution_count": 12,
   "metadata": {},
   "outputs": [
    {
     "name": "stdout",
     "output_type": "stream",
     "text": [
      "(10234, 500, 125, 50213, 1440, 64920, 225, 425, 1)\n"
     ]
    }
   ],
   "source": [
    "numbers = int('10234'), int('500'), int('125'), int('50213'), int('1440'), int('64920'), int('225'), int('425'), int('1')\n",
    "print(numbers)"
   ]
  },
  {
   "cell_type": "code",
   "execution_count": 13,
   "metadata": {},
   "outputs": [
    {
     "name": "stdout",
     "output_type": "stream",
     "text": [
      "14231.444444444445\n"
     ]
    }
   ],
   "source": [
    "average = sum(numbers)/ len(numbers)\n",
    "print(average)"
   ]
  },
  {
   "cell_type": "code",
   "execution_count": 14,
   "metadata": {},
   "outputs": [
    {
     "name": "stdout",
     "output_type": "stream",
     "text": [
      "128083\n"
     ]
    }
   ],
   "source": [
    "Sum = sum(numbers) \n",
    "print(Sum)"
   ]
  },
  {
   "cell_type": "code",
   "execution_count": 15,
   "metadata": {},
   "outputs": [
    {
     "name": "stdout",
     "output_type": "stream",
     "text": [
      "9\n"
     ]
    }
   ],
   "source": [
    "count = len(numbers)\n",
    "print(count)"
   ]
  },
  {
   "cell_type": "code",
   "execution_count": 16,
   "metadata": {},
   "outputs": [
    {
     "name": "stdout",
     "output_type": "stream",
     "text": [
      "['10234', '500', '125', '50213', '1440', '225', '425']\n"
     ]
    }
   ],
   "source": [
    "numbers = ['10234', '500', '125', '50213', '1440', '64920', '225', '425', '1']\n",
    "numbers.remove(max(numbers))\n",
    "numbers.remove(min(numbers))\n",
    "print(numbers)"
   ]
  },
  {
   "cell_type": "code",
   "execution_count": 17,
   "metadata": {},
   "outputs": [
    {
     "name": "stdout",
     "output_type": "stream",
     "text": [
      "(10234, 500, 125, 50213, 1440, 225, 425)\n"
     ]
    }
   ],
   "source": [
    "numbers = int('10234'), int('500'), int('125'), int('50213'), int('1440'), int('225'), int('425')\n",
    "print(numbers)"
   ]
  },
  {
   "cell_type": "code",
   "execution_count": 18,
   "metadata": {},
   "outputs": [
    {
     "name": "stdout",
     "output_type": "stream",
     "text": [
      "9023.142857142857\n"
     ]
    }
   ],
   "source": [
    "average = sum(numbers)/ len(numbers)\n",
    "print(average)"
   ]
  },
  {
   "cell_type": "code",
   "execution_count": 19,
   "metadata": {},
   "outputs": [
    {
     "name": "stdout",
     "output_type": "stream",
     "text": [
      "63162\n"
     ]
    }
   ],
   "source": [
    "Sum = sum(numbers) \n",
    "print(Sum)"
   ]
  },
  {
   "cell_type": "code",
   "execution_count": 20,
   "metadata": {},
   "outputs": [
    {
     "name": "stdout",
     "output_type": "stream",
     "text": [
      "7\n"
     ]
    }
   ],
   "source": [
    "count = len(numbers)\n",
    "print(count)"
   ]
  },
  {
   "cell_type": "code",
   "execution_count": null,
   "metadata": {},
   "outputs": [],
   "source": []
  },
  {
   "cell_type": "code",
   "execution_count": null,
   "metadata": {},
   "outputs": [],
   "source": []
  }
 ],
 "metadata": {
  "kernelspec": {
   "display_name": "Python 3",
   "language": "python",
   "name": "python3"
  },
  "language_info": {
   "codemirror_mode": {
    "name": "ipython",
    "version": 3
   },
   "file_extension": ".py",
   "mimetype": "text/x-python",
   "name": "python",
   "nbconvert_exporter": "python",
   "pygments_lexer": "ipython3",
   "version": "3.8.5"
  },
  "toc": {
   "base_numbering": 1,
   "nav_menu": {},
   "number_sections": true,
   "sideBar": true,
   "skip_h1_title": false,
   "title_cell": "Table of Contents",
   "title_sidebar": "Contents",
   "toc_cell": false,
   "toc_position": {},
   "toc_section_display": true,
   "toc_window_display": false
  },
  "varInspector": {
   "cols": {
    "lenName": 16,
    "lenType": 16,
    "lenVar": 40
   },
   "kernels_config": {
    "python": {
     "delete_cmd_postfix": "",
     "delete_cmd_prefix": "del ",
     "library": "var_list.py",
     "varRefreshCmd": "print(var_dic_list())"
    },
    "r": {
     "delete_cmd_postfix": ") ",
     "delete_cmd_prefix": "rm(",
     "library": "var_list.r",
     "varRefreshCmd": "cat(var_dic_list()) "
    }
   },
   "types_to_exclude": [
    "module",
    "function",
    "builtin_function_or_method",
    "instance",
    "_Feature"
   ],
   "window_display": false
  }
 },
 "nbformat": 4,
 "nbformat_minor": 4
}
