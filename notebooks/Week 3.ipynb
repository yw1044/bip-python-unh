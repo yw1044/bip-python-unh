{
 "cells": [
  {
   "cell_type": "markdown",
   "metadata": {},
   "source": [
    "# Welcome to Using Python for Analytics\n",
    "\n",
    "## Week 2 - Using Jupyter Notebooks, basic math functions, and working with strings (text)\n",
    "\n",
    "This is a Jupyter Notebook, a tool we will primarily use in this class to complete our work. Jupyter Notebooks are a common resource for experimenting with code, particularly in data analysis and data science efforts. Here we will use it to strucure our basic Python practice and organize our work.\n",
    "\n",
    "This cell is a Markdown cell. You can tell by selecting it and looking at the drop-down above. Markdown language is an easy to compile way to write basic text that includes functionality to create headers, tables, and other formatting as needed.\n",
    "\n",
    "The next cell is a Code cell. You will primarily use code cells in your work as this type of cell is what prompts the system to decipher what you write using the Python programming language. You can learn more about the history and basics of Python on the Wikipedia page: https://en.wikipedia.org/wiki/Python_(programming_language)#:~:text=Python%20was%20conceived%20in%20the%20late%201980s%20by%20Guido%20van,implementation%20began%20in%20December%201989.\n",
    "\n"
   ]
  },
  {
   "cell_type": "markdown",
   "metadata": {},
   "source": [
    "# Assignment 1 - Read all notes and run the code to get the output as examples.\n"
   ]
  },
  {
   "cell_type": "code",
   "execution_count": 1,
   "metadata": {
    "ExecuteTime": {
     "end_time": "2020-08-04T16:01:06.465029Z",
     "start_time": "2020-08-04T16:01:06.446079Z"
    }
   },
   "outputs": [
    {
     "data": {
      "text/plain": [
       "3"
      ]
     },
     "execution_count": 1,
     "metadata": {},
     "output_type": "execute_result"
    }
   ],
   "source": [
    "# When in a code cell, you can start the line with a hashtag to indicate it is a comment\n",
    "# Comments are very helpful to explain what you are doing in the code to help read it later.\n",
    "# It is a best practice to use your comments to indicate WHY you are doing something, not what the code is doing.\n",
    "# You should strive to write your code clearly and concicely so someone else who knows Python can read it with relative ease\n",
    "\n",
    "# One line of code that is not a comment is a simple math problem. Click the RUN button to execute the code and \n",
    "#      get the answer\n",
    "1 + 2"
   ]
  },
  {
   "cell_type": "code",
   "execution_count": 2,
   "metadata": {
    "ExecuteTime": {
     "end_time": "2020-08-04T16:02:10.628082Z",
     "start_time": "2020-08-04T16:02:10.622093Z"
    }
   },
   "outputs": [
    {
     "data": {
      "text/plain": [
       "7"
      ]
     },
     "execution_count": 2,
     "metadata": {},
     "output_type": "execute_result"
    }
   ],
   "source": [
    "# Python follows normal mathmatical Order of Operations. Run this code to get the answer and validate this\n",
    "1 + 2 * 3"
   ]
  },
  {
   "cell_type": "code",
   "execution_count": 3,
   "metadata": {
    "ExecuteTime": {
     "end_time": "2020-08-04T16:02:37.948859Z",
     "start_time": "2020-08-04T16:02:37.940881Z"
    }
   },
   "outputs": [
    {
     "data": {
      "text/plain": [
       "9"
      ]
     },
     "execution_count": 3,
     "metadata": {},
     "output_type": "execute_result"
    }
   ],
   "source": [
    "# We can augment Order of Operations using parentheses, just like in normal algebra:\n",
    "(1 + 2) * 3"
   ]
  },
  {
   "cell_type": "code",
   "execution_count": 4,
   "metadata": {},
   "outputs": [
    {
     "data": {
      "text/plain": [
       "12"
      ]
     },
     "execution_count": 4,
     "metadata": {},
     "output_type": "execute_result"
    }
   ],
   "source": [
    "# Write some of your own problems in the cells below to practice:\n",
    "(3+3) * 2"
   ]
  },
  {
   "cell_type": "code",
   "execution_count": 5,
   "metadata": {},
   "outputs": [
    {
     "data": {
      "text/plain": [
       "8"
      ]
     },
     "execution_count": 5,
     "metadata": {},
     "output_type": "execute_result"
    }
   ],
   "source": [
    "4+4"
   ]
  },
  {
   "cell_type": "code",
   "execution_count": 6,
   "metadata": {},
   "outputs": [
    {
     "data": {
      "text/plain": [
       "52"
      ]
     },
     "execution_count": 6,
     "metadata": {},
     "output_type": "execute_result"
    }
   ],
   "source": [
    "12*4+4"
   ]
  },
  {
   "cell_type": "markdown",
   "metadata": {},
   "source": [
    "# Working with Text (strings) in Python\n",
    "Many times in analysis you will receive information that is not just a number, but a text element with some meaning. Many times, that text is messy. Understanding how to manage strings and how they work in Python will be something you will always use. Below are some examples of basic string functions and controls to get you used to handling them in Python.\n",
    "\n",
    "Run each line below to see the way Python interprets what is written"
   ]
  },
  {
   "cell_type": "code",
   "execution_count": 7,
   "metadata": {
    "ExecuteTime": {
     "end_time": "2020-08-04T16:13:50.847520Z",
     "start_time": "2020-08-04T16:13:50.839541Z"
    }
   },
   "outputs": [
    {
     "data": {
      "text/plain": [
       "'I can write anything within a string either with single quotes or ...'"
      ]
     },
     "execution_count": 7,
     "metadata": {},
     "output_type": "execute_result"
    }
   ],
   "source": [
    "'I can write anything within a string either with single quotes or ...'"
   ]
  },
  {
   "cell_type": "code",
   "execution_count": 8,
   "metadata": {
    "ExecuteTime": {
     "end_time": "2020-08-04T16:13:58.698571Z",
     "start_time": "2020-08-04T16:13:58.691589Z"
    }
   },
   "outputs": [
    {
     "data": {
      "text/plain": [
       "'Double Quotes'"
      ]
     },
     "execution_count": 8,
     "metadata": {},
     "output_type": "execute_result"
    }
   ],
   "source": [
    "\"Double Quotes\""
   ]
  },
  {
   "cell_type": "code",
   "execution_count": 9,
   "metadata": {
    "ExecuteTime": {
     "end_time": "2020-08-04T16:16:30.215264Z",
     "start_time": "2020-08-04T16:16:30.205292Z"
    }
   },
   "outputs": [
    {
     "data": {
      "text/plain": [
       "\"If I want to use apostrophes in my string I need to either use double quotes: can't\""
      ]
     },
     "execution_count": 9,
     "metadata": {},
     "output_type": "execute_result"
    }
   ],
   "source": [
    "\"If I want to use apostrophes in my string I need to either use double quotes: can't\""
   ]
  },
  {
   "cell_type": "code",
   "execution_count": 10,
   "metadata": {
    "ExecuteTime": {
     "end_time": "2020-08-04T16:16:39.371831Z",
     "start_time": "2020-08-04T16:16:39.360860Z"
    }
   },
   "outputs": [
    {
     "data": {
      "text/plain": [
       "\"... or I can use a backslash to tell Python to use the literal value, not special chracter: can't\""
      ]
     },
     "execution_count": 10,
     "metadata": {},
     "output_type": "execute_result"
    }
   ],
   "source": [
    "'... or I can use a backslash to tell Python to use the literal value, not special chracter: can\\'t'"
   ]
  },
  {
   "cell_type": "code",
   "execution_count": 11,
   "metadata": {
    "ExecuteTime": {
     "end_time": "2020-08-04T16:17:54.459468Z",
     "start_time": "2020-08-04T16:17:54.448497Z"
    }
   },
   "outputs": [
    {
     "data": {
      "text/plain": [
       "'I'"
      ]
     },
     "execution_count": 11,
     "metadata": {},
     "output_type": "execute_result"
    }
   ],
   "source": [
    "'I can use an indicator in brackets to say what characters I want from a long string. Here I want the first character'[0]"
   ]
  },
  {
   "cell_type": "code",
   "execution_count": 12,
   "metadata": {
    "ExecuteTime": {
     "end_time": "2020-08-04T16:18:18.688790Z",
     "start_time": "2020-08-04T16:18:18.681810Z"
    }
   },
   "outputs": [
    {
     "data": {
      "text/plain": [
       "'Z'"
      ]
     },
     "execution_count": 12,
     "metadata": {},
     "output_type": "execute_result"
    }
   ],
   "source": [
    "'Here is how I get the last letter: Z'[-1]"
   ]
  },
  {
   "cell_type": "code",
   "execution_count": 13,
   "metadata": {
    "ExecuteTime": {
     "end_time": "2020-08-04T16:19:57.591681Z",
     "start_time": "2020-08-04T16:19:57.582704Z"
    }
   },
   "outputs": [
    {
     "data": {
      "text/plain": [
       "'something in the middle'"
      ]
     },
     "execution_count": 13,
     "metadata": {},
     "output_type": "execute_result"
    }
   ],
   "source": [
    "'What if I want something in the middle? You need to provide two numbers, separated by a colon, like this'[15:38]"
   ]
  },
  {
   "cell_type": "code",
   "execution_count": 14,
   "metadata": {
    "ExecuteTime": {
     "end_time": "2020-08-04T16:21:14.516261Z",
     "start_time": "2020-08-04T16:21:14.508281Z"
    }
   },
   "outputs": [
    {
     "data": {
      "text/plain": [
       "'THERE ARE WAYS TO MAKE ALL THE CHARACTERS UPPER CASE'"
      ]
     },
     "execution_count": 14,
     "metadata": {},
     "output_type": "execute_result"
    }
   ],
   "source": [
    "'There are ways to make all the characters upper case'.upper()"
   ]
  },
  {
   "cell_type": "code",
   "execution_count": 15,
   "metadata": {
    "ExecuteTime": {
     "end_time": "2020-08-04T16:21:32.710674Z",
     "start_time": "2020-08-04T16:21:32.702697Z"
    }
   },
   "outputs": [
    {
     "data": {
      "text/plain": [
       "'or switch everything to lower case'"
      ]
     },
     "execution_count": 15,
     "metadata": {},
     "output_type": "execute_result"
    }
   ],
   "source": [
    "'OR SWitCH Everything to LOWER CASE'.lower()"
   ]
  },
  {
   "cell_type": "code",
   "execution_count": 16,
   "metadata": {
    "ExecuteTime": {
     "end_time": "2020-08-04T16:21:59.268754Z",
     "start_time": "2020-08-04T16:21:59.259777Z"
    }
   },
   "outputs": [
    {
     "data": {
      "text/plain": [
       "'and if you have a lot of whitespace that is causing issues, you can strip it away'"
      ]
     },
     "execution_count": 16,
     "metadata": {},
     "output_type": "execute_result"
    }
   ],
   "source": [
    "'        and if you have a lot of whitespace that is causing issues, you can strip it away      '.strip()"
   ]
  },
  {
   "cell_type": "code",
   "execution_count": 17,
   "metadata": {
    "ExecuteTime": {
     "end_time": "2020-08-04T16:22:28.267316Z",
     "start_time": "2020-08-04T16:22:28.258341Z"
    }
   },
   "outputs": [
    {
     "data": {
      "text/plain": [
       "'but maybe you want to keep it from the ending     '"
      ]
     },
     "execution_count": 17,
     "metadata": {},
     "output_type": "execute_result"
    }
   ],
   "source": [
    "'       but maybe you want to keep it from the ending     '.lstrip()"
   ]
  },
  {
   "cell_type": "code",
   "execution_count": 18,
   "metadata": {
    "ExecuteTime": {
     "end_time": "2020-08-04T16:22:41.280566Z",
     "start_time": "2020-08-04T16:22:41.272587Z"
    }
   },
   "outputs": [
    {
     "data": {
      "text/plain": [
       "'      or from the beginning'"
      ]
     },
     "execution_count": 18,
     "metadata": {},
     "output_type": "execute_result"
    }
   ],
   "source": [
    "'      or from the beginning     '.rstrip()"
   ]
  },
  {
   "cell_type": "code",
   "execution_count": 19,
   "metadata": {
    "ExecuteTime": {
     "end_time": "2020-08-04T16:23:33.283656Z",
     "start_time": "2020-08-04T16:23:33.273683Z"
    }
   },
   "outputs": [
    {
     "data": {
      "text/plain": [
       "'you can also combine two strings, by adding them together like this.'"
      ]
     },
     "execution_count": 19,
     "metadata": {},
     "output_type": "execute_result"
    }
   ],
   "source": [
    "'you can also combine ' + 'two strings, by adding them together like this.'"
   ]
  },
  {
   "cell_type": "code",
   "execution_count": 20,
   "metadata": {},
   "outputs": [
    {
     "data": {
      "text/plain": [
       "'hello'"
      ]
     },
     "execution_count": 20,
     "metadata": {},
     "output_type": "execute_result"
    }
   ],
   "source": [
    "# try practicing these concepts with your own text below int the open cells\n",
    "\n",
    "'hello'"
   ]
  },
  {
   "cell_type": "code",
   "execution_count": 21,
   "metadata": {},
   "outputs": [
    {
     "data": {
      "text/plain": [
       "'hello'"
      ]
     },
     "execution_count": 21,
     "metadata": {},
     "output_type": "execute_result"
    }
   ],
   "source": [
    "'hello'.lower()"
   ]
  },
  {
   "cell_type": "code",
   "execution_count": 22,
   "metadata": {},
   "outputs": [
    {
     "data": {
      "text/plain": [
       "'HELLO'"
      ]
     },
     "execution_count": 22,
     "metadata": {},
     "output_type": "execute_result"
    }
   ],
   "source": [
    "'hello'.upper()"
   ]
  },
  {
   "cell_type": "code",
   "execution_count": 23,
   "metadata": {},
   "outputs": [
    {
     "data": {
      "text/plain": [
       "'...HELLO'"
      ]
     },
     "execution_count": 23,
     "metadata": {},
     "output_type": "execute_result"
    }
   ],
   "source": [
    "'...hello'.upper()"
   ]
  },
  {
   "cell_type": "markdown",
   "metadata": {},
   "source": [
    "# Math, Strings and Variables\n",
    "\n",
    "Python's use of variables is extremely user friendly. A variable is a means to store and recall data. With Python, unlike most programming languages, you do not need to define what this variable will look like or be used ahead of time. You can simply set something equal to your keyword and immediately use it.\n",
    "\n",
    "The only thing that can become tricky is if you name a variable something that is already a keyword in Python. We will discuss this further, but for now be sure to name your variables very specifically to avoid confusion."
   ]
  },
  {
   "cell_type": "code",
   "execution_count": 24,
   "metadata": {
    "ExecuteTime": {
     "end_time": "2020-08-04T19:40:20.033385Z",
     "start_time": "2020-08-04T19:40:20.020417Z"
    }
   },
   "outputs": [
    {
     "data": {
      "text/plain": [
       "'my boys name is Bobby'"
      ]
     },
     "execution_count": 24,
     "metadata": {},
     "output_type": "execute_result"
    }
   ],
   "source": [
    "# first lets set some variables and then try to use them\n",
    "boys_name = 'Bobby'\n",
    "girls_name = 'Cindy'\n",
    "\n",
    "'my boys name is ' + boys_name"
   ]
  },
  {
   "cell_type": "code",
   "execution_count": 25,
   "metadata": {
    "ExecuteTime": {
     "end_time": "2020-08-04T19:40:34.097641Z",
     "start_time": "2020-08-04T19:40:34.089663Z"
    }
   },
   "outputs": [
    {
     "data": {
      "text/plain": [
       "'girls name isCindy'"
      ]
     },
     "execution_count": 25,
     "metadata": {},
     "output_type": "execute_result"
    }
   ],
   "source": [
    "'girls name is' + girls_name"
   ]
  },
  {
   "cell_type": "code",
   "execution_count": 26,
   "metadata": {
    "ExecuteTime": {
     "end_time": "2020-08-04T19:41:58.896098Z",
     "start_time": "2020-08-04T19:41:58.888111Z"
    }
   },
   "outputs": [
    {
     "data": {
      "text/plain": [
       "11"
      ]
     },
     "execution_count": 26,
     "metadata": {},
     "output_type": "execute_result"
    }
   ],
   "source": [
    "# oops, if we do not add the space purposefully, it is not added for us. Something to consider. now how about math??\n",
    "\n",
    "number_twelve = 12\n",
    "number_one = 1\n",
    "\n",
    "number_twelve - number_one"
   ]
  },
  {
   "cell_type": "code",
   "execution_count": 27,
   "metadata": {
    "ExecuteTime": {
     "end_time": "2020-08-04T19:44:14.068459Z",
     "start_time": "2020-08-04T19:44:14.059482Z"
    }
   },
   "outputs": [
    {
     "data": {
      "text/plain": [
       "9"
      ]
     },
     "execution_count": 27,
     "metadata": {},
     "output_type": "execute_result"
    }
   ],
   "source": [
    "# by being thoughful about our variable names, we can make math easier to follow, which helps explain what we are doing\n",
    "# with our code. As above, the number twelve minuse one is 11. Using specific variables makes it easy to follow and use\n",
    "# here is another example:\n",
    "\n",
    "# I have twelve apples and I give three to Mary. How many apples do I have left?\n",
    "my_apples = 12\n",
    "marys_apples = 3\n",
    "\n",
    "my_apples - marys_apples"
   ]
  },
  {
   "cell_type": "markdown",
   "metadata": {},
   "source": [
    "# Assignment 2 - Read notes and write code to solve the two problems below"
   ]
  },
  {
   "cell_type": "code",
   "execution_count": 3,
   "metadata": {},
   "outputs": [
    {
     "data": {
      "text/plain": [
       "8"
      ]
     },
     "execution_count": 3,
     "metadata": {},
     "output_type": "execute_result"
    }
   ],
   "source": [
    "# try to use variables and write an equation that clearly solves this word problem:\n",
    "\n",
    "# Enrique is a local window salesman. He has a quota of selling 50 windows a month. This is the fourth and final week of\n",
    "# the month and we want to know how many more windows Enrique needs to sell to make his quota. We know he sold 5 the first\n",
    "# week, 12 the second week and had a big sale of 25 at the end of week three. How many more windows does he need to sell?\n",
    "50-5-12-25"
   ]
  },
  {
   "cell_type": "code",
   "execution_count": 4,
   "metadata": {},
   "outputs": [
    {
     "data": {
      "text/plain": [
       "-5"
      ]
     },
     "execution_count": 4,
     "metadata": {},
     "output_type": "execute_result"
    }
   ],
   "source": [
    "# Now copy the answer from above to this cell. Once you copied it, lets change the numbers and see if it still works.\n",
    "# Lets measure Salma's first three weeks and see how many windows she needs to sell in the final week. Her sales were\n",
    "# 15 in week 1, 18 in week 2, and 22 in week three.\n",
    "\n",
    "50-15-18-22"
   ]
  },
  {
   "cell_type": "code",
   "execution_count": null,
   "metadata": {},
   "outputs": [],
   "source": []
  }
 ],
 "metadata": {
  "kernelspec": {
   "display_name": "Python 3",
   "language": "python",
   "name": "python3"
  },
  "language_info": {
   "codemirror_mode": {
    "name": "ipython",
    "version": 3
   },
   "file_extension": ".py",
   "mimetype": "text/x-python",
   "name": "python",
   "nbconvert_exporter": "python",
   "pygments_lexer": "ipython3",
   "version": "3.8.5"
  },
  "toc": {
   "base_numbering": 1,
   "nav_menu": {},
   "number_sections": true,
   "sideBar": true,
   "skip_h1_title": false,
   "title_cell": "Table of Contents",
   "title_sidebar": "Contents",
   "toc_cell": false,
   "toc_position": {},
   "toc_section_display": true,
   "toc_window_display": false
  },
  "varInspector": {
   "cols": {
    "lenName": 16,
    "lenType": 16,
    "lenVar": 40
   },
   "kernels_config": {
    "python": {
     "delete_cmd_postfix": "",
     "delete_cmd_prefix": "del ",
     "library": "var_list.py",
     "varRefreshCmd": "print(var_dic_list())"
    },
    "r": {
     "delete_cmd_postfix": ") ",
     "delete_cmd_prefix": "rm(",
     "library": "var_list.r",
     "varRefreshCmd": "cat(var_dic_list()) "
    }
   },
   "types_to_exclude": [
    "module",
    "function",
    "builtin_function_or_method",
    "instance",
    "_Feature"
   ],
   "window_display": false
  }
 },
 "nbformat": 4,
 "nbformat_minor": 4
}
